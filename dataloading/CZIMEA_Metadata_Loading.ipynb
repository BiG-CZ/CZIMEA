{
 "cells": [
  {
   "cell_type": "markdown",
   "metadata": {
    "deletable": true,
    "editable": true
   },
   "source": [
    "# Use ODM2API to connect to ODM2 CZIMEA database, and load sampling features and associated information (actions, related features, IGSN's, etc)\n",
    "- 2/3-2/2017\n",
    "- 2/7/2017. Updated by Don. Functions moved to a module, and notebook imports themodule\n",
    "- 2/10-9. Updated by Emilio. Added core section functionality. Plus some fixes and cleanups.\n",
    "- 3/7. Emilio. Hid DB connectivity info."
   ]
  },
  {
   "cell_type": "code",
   "execution_count": 1,
   "metadata": {
    "collapsed": false,
    "deletable": true,
    "editable": true
   },
   "outputs": [],
   "source": [
    "import czimea_dataload as czld\n",
    "from czimea_dataload import odm2mod"
   ]
  },
  {
   "cell_type": "markdown",
   "metadata": {
    "deletable": true,
    "editable": true
   },
   "source": [
    "## Read data files into pandas DataFrame"
   ]
  },
  {
   "cell_type": "code",
   "execution_count": 2,
   "metadata": {
    "collapsed": true,
    "deletable": true,
    "editable": true
   },
   "outputs": [],
   "source": [
    "# Replace with your local file path for the csv file\n",
    "dpth = '/home/mayorga/Desktop/CZOData-BiGCZ-NOW/KeshavUWVisit201701'\n",
    "#dpth = '/Volumes/Landung_2TB/Work/GitHub/ODM2API-ipython-notebooks/'"
   ]
  },
  {
   "cell_type": "code",
   "execution_count": 3,
   "metadata": {
    "collapsed": false,
    "deletable": true,
    "editable": true
   },
   "outputs": [],
   "source": [
    "sfdf = czld.get_df(dpth, 'samplingfeatures.csv')"
   ]
  },
  {
   "cell_type": "code",
   "execution_count": 4,
   "metadata": {
    "collapsed": false,
    "deletable": true,
    "editable": true
   },
   "outputs": [
    {
     "data": {
      "text/html": [
       "<div>\n",
       "<table border=\"1\" class=\"dataframe\">\n",
       "  <thead>\n",
       "    <tr style=\"text-align: right;\">\n",
       "      <th></th>\n",
       "      <th>code</th>\n",
       "      <th>name</th>\n",
       "      <th>czo</th>\n",
       "      <th>lat</th>\n",
       "      <th>lon</th>\n",
       "      <th>actionbyaffiliationid</th>\n",
       "      <th>siteigsn</th>\n",
       "      <th>coreigsn</th>\n",
       "      <th>size</th>\n",
       "      <th>collectiondate</th>\n",
       "      <th>coringmethodid</th>\n",
       "    </tr>\n",
       "  </thead>\n",
       "  <tbody>\n",
       "    <tr>\n",
       "      <th>0</th>\n",
       "      <td>SJER</td>\n",
       "      <td>San Joaquin Experimental Reserve</td>\n",
       "      <td>South Sierra</td>\n",
       "      <td>37.1088</td>\n",
       "      <td>-119.7314</td>\n",
       "      <td>7</td>\n",
       "      <td>IERRR00AC</td>\n",
       "      <td>IERRR00AS</td>\n",
       "      <td>100</td>\n",
       "      <td>2016-04-10</td>\n",
       "      <td>15</td>\n",
       "    </tr>\n",
       "    <tr>\n",
       "      <th>1</th>\n",
       "      <td>PROV</td>\n",
       "      <td>Providence</td>\n",
       "      <td>South Sierra</td>\n",
       "      <td>37.0675</td>\n",
       "      <td>-119.1950</td>\n",
       "      <td>8</td>\n",
       "      <td>IERRR00AD</td>\n",
       "      <td>IERRR00AT</td>\n",
       "      <td>100</td>\n",
       "      <td>2016-06-24</td>\n",
       "      <td>15</td>\n",
       "    </tr>\n",
       "    <tr>\n",
       "      <th>2</th>\n",
       "      <td>MEAD</td>\n",
       "      <td>Gordon Gulch Meadow</td>\n",
       "      <td>Boulder Creek</td>\n",
       "      <td>40.0210</td>\n",
       "      <td>-105.4796</td>\n",
       "      <td>9</td>\n",
       "      <td>IERRR00AE</td>\n",
       "      <td>IERRR00AU</td>\n",
       "      <td>80</td>\n",
       "      <td>2016-06-14</td>\n",
       "      <td>15</td>\n",
       "    </tr>\n",
       "    <tr>\n",
       "      <th>3</th>\n",
       "      <td>NSLP</td>\n",
       "      <td>Gordon Gulch North-Facing Slope</td>\n",
       "      <td>Boulder Creek</td>\n",
       "      <td>40.0125</td>\n",
       "      <td>-105.4690</td>\n",
       "      <td>9</td>\n",
       "      <td>IERRR00AF</td>\n",
       "      <td>IERRR00AV</td>\n",
       "      <td>70</td>\n",
       "      <td>2016-06-14</td>\n",
       "      <td>15</td>\n",
       "    </tr>\n",
       "    <tr>\n",
       "      <th>4</th>\n",
       "      <td>GRNT</td>\n",
       "      <td>Granite Profile (Whiskey Hill)</td>\n",
       "      <td>Reynolds Creek</td>\n",
       "      <td>43.1927</td>\n",
       "      <td>-116.8105</td>\n",
       "      <td>10</td>\n",
       "      <td>IERRR00AG</td>\n",
       "      <td>IERRR00AW</td>\n",
       "      <td>240</td>\n",
       "      <td>2016-06-15</td>\n",
       "      <td>15</td>\n",
       "    </tr>\n",
       "  </tbody>\n",
       "</table>\n",
       "</div>"
      ],
      "text/plain": [
       "   code                              name             czo      lat       lon  \\\n",
       "0  SJER  San Joaquin Experimental Reserve    South Sierra  37.1088 -119.7314   \n",
       "1  PROV                        Providence    South Sierra  37.0675 -119.1950   \n",
       "2  MEAD               Gordon Gulch Meadow   Boulder Creek  40.0210 -105.4796   \n",
       "3  NSLP   Gordon Gulch North-Facing Slope   Boulder Creek  40.0125 -105.4690   \n",
       "4  GRNT    Granite Profile (Whiskey Hill)  Reynolds Creek  43.1927 -116.8105   \n",
       "\n",
       "   actionbyaffiliationid   siteigsn   coreigsn  size collectiondate  \\\n",
       "0                      7  IERRR00AC  IERRR00AS   100     2016-04-10   \n",
       "1                      8  IERRR00AD  IERRR00AT   100     2016-06-24   \n",
       "2                      9  IERRR00AE  IERRR00AU    80     2016-06-14   \n",
       "3                      9  IERRR00AF  IERRR00AV    70     2016-06-14   \n",
       "4                     10  IERRR00AG  IERRR00AW   240     2016-06-15   \n",
       "\n",
       "   coringmethodid  \n",
       "0              15  \n",
       "1              15  \n",
       "2              15  \n",
       "3              15  \n",
       "4              15  "
      ]
     },
     "execution_count": 4,
     "metadata": {},
     "output_type": "execute_result"
    }
   ],
   "source": [
    "sfdf.head()"
   ]
  },
  {
   "cell_type": "code",
   "execution_count": 5,
   "metadata": {
    "collapsed": false
   },
   "outputs": [
    {
     "data": {
      "text/plain": [
       "{'actionbyaffiliationid': 7,\n",
       " 'code': 'SJER',\n",
       " 'collectiondate': '2016-04-10',\n",
       " 'coreigsn': 'IERRR00AS',\n",
       " 'coringmethodid': 15,\n",
       " 'czo': 'South Sierra',\n",
       " 'lat': 37.108800000000002,\n",
       " 'lon': -119.73139999999999,\n",
       " 'name': 'San Joaquin Experimental Reserve',\n",
       " 'siteigsn': 'IERRR00AC',\n",
       " 'size': 100}"
      ]
     },
     "execution_count": 5,
     "metadata": {},
     "output_type": "execute_result"
    }
   ],
   "source": [
    "sfdf.iloc[0].to_dict()"
   ]
  },
  {
   "cell_type": "code",
   "execution_count": 6,
   "metadata": {
    "collapsed": false,
    "deletable": true,
    "editable": true
   },
   "outputs": [],
   "source": [
    "csdf = czld.get_df(dpth, 'CZOSampleSpreadsheet.xlsx', sheetname='CoreSubsections')"
   ]
  },
  {
   "cell_type": "code",
   "execution_count": 7,
   "metadata": {
    "collapsed": false,
    "deletable": true,
    "editable": true
   },
   "outputs": [
    {
     "data": {
      "text/html": [
       "<div>\n",
       "<table border=\"1\" class=\"dataframe\">\n",
       "  <thead>\n",
       "    <tr style=\"text-align: right;\">\n",
       "      <th></th>\n",
       "      <th>LabID</th>\n",
       "      <th>Site</th>\n",
       "      <th>Date</th>\n",
       "      <th>Depth</th>\n",
       "      <th>Mass</th>\n",
       "    </tr>\n",
       "  </thead>\n",
       "  <tbody>\n",
       "    <tr>\n",
       "      <th>0</th>\n",
       "      <td>80001</td>\n",
       "      <td>ICAC</td>\n",
       "      <td>2016-11-15</td>\n",
       "      <td>0-10</td>\n",
       "      <td>72.19</td>\n",
       "    </tr>\n",
       "    <tr>\n",
       "      <th>1</th>\n",
       "      <td>80002</td>\n",
       "      <td>ICAC</td>\n",
       "      <td>2016-11-15</td>\n",
       "      <td>10-20</td>\n",
       "      <td>204.47</td>\n",
       "    </tr>\n",
       "    <tr>\n",
       "      <th>2</th>\n",
       "      <td>80003</td>\n",
       "      <td>ICAC</td>\n",
       "      <td>2016-11-15</td>\n",
       "      <td>20-30</td>\n",
       "      <td>132.24</td>\n",
       "    </tr>\n",
       "    <tr>\n",
       "      <th>3</th>\n",
       "      <td>80004</td>\n",
       "      <td>ICAC</td>\n",
       "      <td>2016-11-15</td>\n",
       "      <td>30-40</td>\n",
       "      <td>313.24</td>\n",
       "    </tr>\n",
       "    <tr>\n",
       "      <th>4</th>\n",
       "      <td>80005</td>\n",
       "      <td>ICAC</td>\n",
       "      <td>2016-11-15</td>\n",
       "      <td>40-50</td>\n",
       "      <td>287.06</td>\n",
       "    </tr>\n",
       "  </tbody>\n",
       "</table>\n",
       "</div>"
      ],
      "text/plain": [
       "   LabID  Site       Date  Depth    Mass\n",
       "0  80001  ICAC 2016-11-15   0-10   72.19\n",
       "1  80002  ICAC 2016-11-15  10-20  204.47\n",
       "2  80003  ICAC 2016-11-15  20-30  132.24\n",
       "3  80004  ICAC 2016-11-15  30-40  313.24\n",
       "4  80005  ICAC 2016-11-15  40-50  287.06"
      ]
     },
     "execution_count": 7,
     "metadata": {},
     "output_type": "execute_result"
    }
   ],
   "source": [
    "csdf.head()"
   ]
  },
  {
   "cell_type": "code",
   "execution_count": 8,
   "metadata": {
    "collapsed": false
   },
   "outputs": [
    {
     "data": {
      "text/plain": [
       "(174,\n",
       " {u'Date': Timestamp('2016-11-15 00:00:00'),\n",
       "  u'Depth': u'0-10',\n",
       "  u'LabID': 80001,\n",
       "  u'Mass': 72.189999999999998,\n",
       "  u'Site': u'ICAC'})"
      ]
     },
     "execution_count": 8,
     "metadata": {},
     "output_type": "execute_result"
    }
   ],
   "source": [
    "len(csdf), csdf.iloc[0].to_dict()"
   ]
  },
  {
   "cell_type": "code",
   "execution_count": 9,
   "metadata": {
    "collapsed": false,
    "deletable": true,
    "editable": true
   },
   "outputs": [],
   "source": [
    "# 'Core Sections IGSN.xlsx'\n",
    "csigsndf = czld.get_df(dpth, 'Core Sections IGSN.xls.xlsx', sheetname='Worksheet', skiprows=1)"
   ]
  },
  {
   "cell_type": "code",
   "execution_count": 10,
   "metadata": {
    "collapsed": false,
    "deletable": true,
    "editable": true
   },
   "outputs": [
    {
     "data": {
      "text/html": [
       "<div>\n",
       "<table border=\"1\" class=\"dataframe\">\n",
       "  <thead>\n",
       "    <tr style=\"text-align: right;\">\n",
       "      <th></th>\n",
       "      <th>Sample Name</th>\n",
       "      <th>IGSN</th>\n",
       "      <th>Parent IGSN</th>\n",
       "      <th>Material</th>\n",
       "      <th>Other name(s)</th>\n",
       "      <th>Latitude</th>\n",
       "      <th>Longitude</th>\n",
       "      <th>Locality</th>\n",
       "      <th>Country</th>\n",
       "      <th>State/Province</th>\n",
       "      <th>Field program/Cruise</th>\n",
       "      <th>Collector/Chief Scientist</th>\n",
       "      <th>Collector/Chief Scientist Address</th>\n",
       "      <th>Collection date</th>\n",
       "      <th>Collection date precision</th>\n",
       "      <th>Depth in Core (min)</th>\n",
       "      <th>Depth in Core (max)</th>\n",
       "      <th>Depth scale</th>\n",
       "    </tr>\n",
       "  </thead>\n",
       "  <tbody>\n",
       "    <tr>\n",
       "      <th>0</th>\n",
       "      <td>SJER</td>\n",
       "      <td>IERRR00B8</td>\n",
       "      <td>IERRR00AS</td>\n",
       "      <td>Soil</td>\n",
       "      <td>NaN</td>\n",
       "      <td>37.1088</td>\n",
       "      <td>-119.7314</td>\n",
       "      <td>San Joaquin Experimental Reserve</td>\n",
       "      <td>United States</td>\n",
       "      <td>California</td>\n",
       "      <td>Sierra Critical Zone Observatory (CZO)</td>\n",
       "      <td>Keshav Arogyaswamy</td>\n",
       "      <td>arogyaswamy@gmail.com</td>\n",
       "      <td>2016-04-10</td>\n",
       "      <td>day</td>\n",
       "      <td>0</td>\n",
       "      <td>10</td>\n",
       "      <td>cm</td>\n",
       "    </tr>\n",
       "    <tr>\n",
       "      <th>1</th>\n",
       "      <td>SJER</td>\n",
       "      <td>IERRR00B9</td>\n",
       "      <td>IERRR00AS</td>\n",
       "      <td>Soil</td>\n",
       "      <td>NaN</td>\n",
       "      <td>37.1088</td>\n",
       "      <td>-119.7314</td>\n",
       "      <td>San Joaquin Experimental Reserve</td>\n",
       "      <td>United States</td>\n",
       "      <td>California</td>\n",
       "      <td>Sierra Critical Zone Observatory (CZO)</td>\n",
       "      <td>Keshav Arogyaswamy</td>\n",
       "      <td>arogyaswamy@gmail.com</td>\n",
       "      <td>2016-04-10</td>\n",
       "      <td>day</td>\n",
       "      <td>10</td>\n",
       "      <td>20</td>\n",
       "      <td>cm</td>\n",
       "    </tr>\n",
       "    <tr>\n",
       "      <th>2</th>\n",
       "      <td>SJER</td>\n",
       "      <td>IERRR00BA</td>\n",
       "      <td>IERRR00AS</td>\n",
       "      <td>Soil</td>\n",
       "      <td>NaN</td>\n",
       "      <td>37.1088</td>\n",
       "      <td>-119.7314</td>\n",
       "      <td>San Joaquin Experimental Reserve</td>\n",
       "      <td>United States</td>\n",
       "      <td>California</td>\n",
       "      <td>Sierra Critical Zone Observatory (CZO)</td>\n",
       "      <td>Keshav Arogyaswamy</td>\n",
       "      <td>arogyaswamy@gmail.com</td>\n",
       "      <td>2016-04-10</td>\n",
       "      <td>day</td>\n",
       "      <td>20</td>\n",
       "      <td>30</td>\n",
       "      <td>cm</td>\n",
       "    </tr>\n",
       "    <tr>\n",
       "      <th>3</th>\n",
       "      <td>SJER</td>\n",
       "      <td>IERRR00BB</td>\n",
       "      <td>IERRR00AS</td>\n",
       "      <td>Soil</td>\n",
       "      <td>NaN</td>\n",
       "      <td>37.1088</td>\n",
       "      <td>-119.7314</td>\n",
       "      <td>San Joaquin Experimental Reserve</td>\n",
       "      <td>United States</td>\n",
       "      <td>California</td>\n",
       "      <td>Sierra Critical Zone Observatory (CZO)</td>\n",
       "      <td>Keshav Arogyaswamy</td>\n",
       "      <td>arogyaswamy@gmail.com</td>\n",
       "      <td>2016-04-10</td>\n",
       "      <td>day</td>\n",
       "      <td>30</td>\n",
       "      <td>40</td>\n",
       "      <td>cm</td>\n",
       "    </tr>\n",
       "    <tr>\n",
       "      <th>4</th>\n",
       "      <td>SJER</td>\n",
       "      <td>IERRR00BC</td>\n",
       "      <td>IERRR00AS</td>\n",
       "      <td>Soil</td>\n",
       "      <td>NaN</td>\n",
       "      <td>37.1088</td>\n",
       "      <td>-119.7314</td>\n",
       "      <td>San Joaquin Experimental Reserve</td>\n",
       "      <td>United States</td>\n",
       "      <td>California</td>\n",
       "      <td>Sierra Critical Zone Observatory (CZO)</td>\n",
       "      <td>Keshav Arogyaswamy</td>\n",
       "      <td>arogyaswamy@gmail.com</td>\n",
       "      <td>2016-04-10</td>\n",
       "      <td>day</td>\n",
       "      <td>40</td>\n",
       "      <td>50</td>\n",
       "      <td>cm</td>\n",
       "    </tr>\n",
       "  </tbody>\n",
       "</table>\n",
       "</div>"
      ],
      "text/plain": [
       "  Sample Name       IGSN Parent IGSN Material  Other name(s)  Latitude  \\\n",
       "0        SJER  IERRR00B8   IERRR00AS     Soil            NaN   37.1088   \n",
       "1        SJER  IERRR00B9   IERRR00AS     Soil            NaN   37.1088   \n",
       "2        SJER  IERRR00BA   IERRR00AS     Soil            NaN   37.1088   \n",
       "3        SJER  IERRR00BB   IERRR00AS     Soil            NaN   37.1088   \n",
       "4        SJER  IERRR00BC   IERRR00AS     Soil            NaN   37.1088   \n",
       "\n",
       "   Longitude                          Locality        Country State/Province  \\\n",
       "0  -119.7314  San Joaquin Experimental Reserve  United States     California   \n",
       "1  -119.7314  San Joaquin Experimental Reserve  United States     California   \n",
       "2  -119.7314  San Joaquin Experimental Reserve  United States     California   \n",
       "3  -119.7314  San Joaquin Experimental Reserve  United States     California   \n",
       "4  -119.7314  San Joaquin Experimental Reserve  United States     California   \n",
       "\n",
       "                     Field program/Cruise Collector/Chief Scientist  \\\n",
       "0  Sierra Critical Zone Observatory (CZO)        Keshav Arogyaswamy   \n",
       "1  Sierra Critical Zone Observatory (CZO)        Keshav Arogyaswamy   \n",
       "2  Sierra Critical Zone Observatory (CZO)        Keshav Arogyaswamy   \n",
       "3  Sierra Critical Zone Observatory (CZO)        Keshav Arogyaswamy   \n",
       "4  Sierra Critical Zone Observatory (CZO)        Keshav Arogyaswamy   \n",
       "\n",
       "  Collector/Chief Scientist Address Collection date Collection date precision  \\\n",
       "0             arogyaswamy@gmail.com      2016-04-10                       day   \n",
       "1             arogyaswamy@gmail.com      2016-04-10                       day   \n",
       "2             arogyaswamy@gmail.com      2016-04-10                       day   \n",
       "3             arogyaswamy@gmail.com      2016-04-10                       day   \n",
       "4             arogyaswamy@gmail.com      2016-04-10                       day   \n",
       "\n",
       "   Depth in Core (min)  Depth in Core (max) Depth scale  \n",
       "0                    0                   10          cm  \n",
       "1                   10                   20          cm  \n",
       "2                   20                   30          cm  \n",
       "3                   30                   40          cm  \n",
       "4                   40                   50          cm  "
      ]
     },
     "execution_count": 10,
     "metadata": {},
     "output_type": "execute_result"
    }
   ],
   "source": [
    "csigsndf.head()"
   ]
  },
  {
   "cell_type": "code",
   "execution_count": 11,
   "metadata": {
    "collapsed": false
   },
   "outputs": [
    {
     "data": {
      "text/plain": [
       "(176,\n",
       " {u'Collection date': u'2016-04-10',\n",
       "  u'Collection date precision': u'day',\n",
       "  u'Collector/Chief Scientist': u'Keshav Arogyaswamy',\n",
       "  u'Collector/Chief Scientist Address': u'arogyaswamy@gmail.com',\n",
       "  u'Country': u'United States',\n",
       "  u'Depth in Core (max)': 10,\n",
       "  u'Depth in Core (min)': 0,\n",
       "  u'Depth scale': u'cm',\n",
       "  u'Field program/Cruise': u'Sierra Critical Zone Observatory (CZO)',\n",
       "  u'IGSN': u'IERRR00B8',\n",
       "  u'Latitude': 37.108800000000002,\n",
       "  u'Locality': u'San Joaquin Experimental Reserve',\n",
       "  u'Longitude': -119.73139999999999,\n",
       "  u'Material': u'Soil',\n",
       "  u'Other name(s)': nan,\n",
       "  u'Parent IGSN': u'IERRR00AS',\n",
       "  u'Sample Name': u'SJER',\n",
       "  u'State/Province': u'California'})"
      ]
     },
     "execution_count": 11,
     "metadata": {},
     "output_type": "execute_result"
    }
   ],
   "source": [
    "len(csigsndf), csigsndf.iloc[0].to_dict()"
   ]
  },
  {
   "cell_type": "markdown",
   "metadata": {},
   "source": [
    "**Hmm, inconsistency in number of records** between `csdf` (174) and `csigsndf` (176). **Here's what Keshav had to say (2/10):**\n",
    "> The version in the CZOSampleSpreadsheet.xlsx is correct. There should only be 174 records. The inconsistency arose because we had pre-allocated IGSNs (or at least LabIDs that were registered as part of a batch submission) for PROV and GARN at 100-110cm, but neither site was able to provide that eleventh depth interval. The IGSNs -00DP and -00CT do not refer to any actual samples."
   ]
  },
  {
   "cell_type": "code",
   "execution_count": 12,
   "metadata": {
    "collapsed": true,
    "deletable": true,
    "editable": true
   },
   "outputs": [],
   "source": [
    "csigsndf['Depth'] = csigsndf['Depth in Core (min)'].map(str) \\\n",
    "                    + '-' + csigsndf['Depth in Core (max)'].map(str)"
   ]
  },
  {
   "cell_type": "code",
   "execution_count": 13,
   "metadata": {
    "collapsed": false,
    "deletable": true,
    "editable": true
   },
   "outputs": [],
   "source": [
    "# use how='inner' rather than 'outer', following up on Keshav's clarification\n",
    "csmergeddf = czld.pd.merge(csigsndf, csdf, how='inner', \n",
    "                           left_on=['Sample Name', 'Depth'], right_on=['Site', 'Depth'])"
   ]
  },
  {
   "cell_type": "code",
   "execution_count": 14,
   "metadata": {
    "collapsed": false,
    "deletable": true,
    "editable": true
   },
   "outputs": [
    {
     "data": {
      "text/html": [
       "<div>\n",
       "<table border=\"1\" class=\"dataframe\">\n",
       "  <thead>\n",
       "    <tr style=\"text-align: right;\">\n",
       "      <th></th>\n",
       "      <th>Sample Name</th>\n",
       "      <th>IGSN</th>\n",
       "      <th>Parent IGSN</th>\n",
       "      <th>Material</th>\n",
       "      <th>Other name(s)</th>\n",
       "      <th>Latitude</th>\n",
       "      <th>Longitude</th>\n",
       "      <th>Locality</th>\n",
       "      <th>Country</th>\n",
       "      <th>State/Province</th>\n",
       "      <th>...</th>\n",
       "      <th>Collection date</th>\n",
       "      <th>Collection date precision</th>\n",
       "      <th>Depth in Core (min)</th>\n",
       "      <th>Depth in Core (max)</th>\n",
       "      <th>Depth scale</th>\n",
       "      <th>Depth</th>\n",
       "      <th>LabID</th>\n",
       "      <th>Site</th>\n",
       "      <th>Date</th>\n",
       "      <th>Mass</th>\n",
       "    </tr>\n",
       "  </thead>\n",
       "  <tbody>\n",
       "    <tr>\n",
       "      <th>0</th>\n",
       "      <td>SJER</td>\n",
       "      <td>IERRR00B8</td>\n",
       "      <td>IERRR00AS</td>\n",
       "      <td>Soil</td>\n",
       "      <td>NaN</td>\n",
       "      <td>37.1088</td>\n",
       "      <td>-119.7314</td>\n",
       "      <td>San Joaquin Experimental Reserve</td>\n",
       "      <td>United States</td>\n",
       "      <td>California</td>\n",
       "      <td>...</td>\n",
       "      <td>2016-04-10</td>\n",
       "      <td>day</td>\n",
       "      <td>0</td>\n",
       "      <td>10</td>\n",
       "      <td>cm</td>\n",
       "      <td>0-10</td>\n",
       "      <td>80023</td>\n",
       "      <td>SJER</td>\n",
       "      <td>2016-04-10</td>\n",
       "      <td>514.21</td>\n",
       "    </tr>\n",
       "    <tr>\n",
       "      <th>1</th>\n",
       "      <td>SJER</td>\n",
       "      <td>IERRR00B9</td>\n",
       "      <td>IERRR00AS</td>\n",
       "      <td>Soil</td>\n",
       "      <td>NaN</td>\n",
       "      <td>37.1088</td>\n",
       "      <td>-119.7314</td>\n",
       "      <td>San Joaquin Experimental Reserve</td>\n",
       "      <td>United States</td>\n",
       "      <td>California</td>\n",
       "      <td>...</td>\n",
       "      <td>2016-04-10</td>\n",
       "      <td>day</td>\n",
       "      <td>10</td>\n",
       "      <td>20</td>\n",
       "      <td>cm</td>\n",
       "      <td>10-20</td>\n",
       "      <td>80024</td>\n",
       "      <td>SJER</td>\n",
       "      <td>2016-04-10</td>\n",
       "      <td>527.28</td>\n",
       "    </tr>\n",
       "    <tr>\n",
       "      <th>2</th>\n",
       "      <td>SJER</td>\n",
       "      <td>IERRR00BA</td>\n",
       "      <td>IERRR00AS</td>\n",
       "      <td>Soil</td>\n",
       "      <td>NaN</td>\n",
       "      <td>37.1088</td>\n",
       "      <td>-119.7314</td>\n",
       "      <td>San Joaquin Experimental Reserve</td>\n",
       "      <td>United States</td>\n",
       "      <td>California</td>\n",
       "      <td>...</td>\n",
       "      <td>2016-04-10</td>\n",
       "      <td>day</td>\n",
       "      <td>20</td>\n",
       "      <td>30</td>\n",
       "      <td>cm</td>\n",
       "      <td>20-30</td>\n",
       "      <td>80025</td>\n",
       "      <td>SJER</td>\n",
       "      <td>2016-04-10</td>\n",
       "      <td>550.46</td>\n",
       "    </tr>\n",
       "    <tr>\n",
       "      <th>3</th>\n",
       "      <td>SJER</td>\n",
       "      <td>IERRR00BB</td>\n",
       "      <td>IERRR00AS</td>\n",
       "      <td>Soil</td>\n",
       "      <td>NaN</td>\n",
       "      <td>37.1088</td>\n",
       "      <td>-119.7314</td>\n",
       "      <td>San Joaquin Experimental Reserve</td>\n",
       "      <td>United States</td>\n",
       "      <td>California</td>\n",
       "      <td>...</td>\n",
       "      <td>2016-04-10</td>\n",
       "      <td>day</td>\n",
       "      <td>30</td>\n",
       "      <td>40</td>\n",
       "      <td>cm</td>\n",
       "      <td>30-40</td>\n",
       "      <td>80026</td>\n",
       "      <td>SJER</td>\n",
       "      <td>2016-04-10</td>\n",
       "      <td>507.04</td>\n",
       "    </tr>\n",
       "    <tr>\n",
       "      <th>4</th>\n",
       "      <td>SJER</td>\n",
       "      <td>IERRR00BC</td>\n",
       "      <td>IERRR00AS</td>\n",
       "      <td>Soil</td>\n",
       "      <td>NaN</td>\n",
       "      <td>37.1088</td>\n",
       "      <td>-119.7314</td>\n",
       "      <td>San Joaquin Experimental Reserve</td>\n",
       "      <td>United States</td>\n",
       "      <td>California</td>\n",
       "      <td>...</td>\n",
       "      <td>2016-04-10</td>\n",
       "      <td>day</td>\n",
       "      <td>40</td>\n",
       "      <td>50</td>\n",
       "      <td>cm</td>\n",
       "      <td>40-50</td>\n",
       "      <td>80027</td>\n",
       "      <td>SJER</td>\n",
       "      <td>2016-04-10</td>\n",
       "      <td>492.89</td>\n",
       "    </tr>\n",
       "  </tbody>\n",
       "</table>\n",
       "<p>5 rows × 23 columns</p>\n",
       "</div>"
      ],
      "text/plain": [
       "  Sample Name       IGSN Parent IGSN Material  Other name(s)  Latitude  \\\n",
       "0        SJER  IERRR00B8   IERRR00AS     Soil            NaN   37.1088   \n",
       "1        SJER  IERRR00B9   IERRR00AS     Soil            NaN   37.1088   \n",
       "2        SJER  IERRR00BA   IERRR00AS     Soil            NaN   37.1088   \n",
       "3        SJER  IERRR00BB   IERRR00AS     Soil            NaN   37.1088   \n",
       "4        SJER  IERRR00BC   IERRR00AS     Soil            NaN   37.1088   \n",
       "\n",
       "   Longitude                          Locality        Country State/Province  \\\n",
       "0  -119.7314  San Joaquin Experimental Reserve  United States     California   \n",
       "1  -119.7314  San Joaquin Experimental Reserve  United States     California   \n",
       "2  -119.7314  San Joaquin Experimental Reserve  United States     California   \n",
       "3  -119.7314  San Joaquin Experimental Reserve  United States     California   \n",
       "4  -119.7314  San Joaquin Experimental Reserve  United States     California   \n",
       "\n",
       "    ...   Collection date Collection date precision Depth in Core (min)  \\\n",
       "0   ...        2016-04-10                       day                   0   \n",
       "1   ...        2016-04-10                       day                  10   \n",
       "2   ...        2016-04-10                       day                  20   \n",
       "3   ...        2016-04-10                       day                  30   \n",
       "4   ...        2016-04-10                       day                  40   \n",
       "\n",
       "  Depth in Core (max) Depth scale  Depth  LabID  Site       Date    Mass  \n",
       "0                  10          cm   0-10  80023  SJER 2016-04-10  514.21  \n",
       "1                  20          cm  10-20  80024  SJER 2016-04-10  527.28  \n",
       "2                  30          cm  20-30  80025  SJER 2016-04-10  550.46  \n",
       "3                  40          cm  30-40  80026  SJER 2016-04-10  507.04  \n",
       "4                  50          cm  40-50  80027  SJER 2016-04-10  492.89  \n",
       "\n",
       "[5 rows x 23 columns]"
      ]
     },
     "execution_count": 14,
     "metadata": {},
     "output_type": "execute_result"
    }
   ],
   "source": [
    "csmergeddf.head()"
   ]
  },
  {
   "cell_type": "code",
   "execution_count": 15,
   "metadata": {
    "collapsed": false
   },
   "outputs": [
    {
     "data": {
      "text/plain": [
       "(174,\n",
       " {u'Collection date': u'2016-04-10',\n",
       "  u'Collection date precision': u'day',\n",
       "  u'Collector/Chief Scientist': u'Keshav Arogyaswamy',\n",
       "  u'Collector/Chief Scientist Address': u'arogyaswamy@gmail.com',\n",
       "  u'Country': u'United States',\n",
       "  u'Date': Timestamp('2016-04-10 00:00:00'),\n",
       "  'Depth': '0-10',\n",
       "  u'Depth in Core (max)': 10,\n",
       "  u'Depth in Core (min)': 0,\n",
       "  u'Depth scale': u'cm',\n",
       "  u'Field program/Cruise': u'Sierra Critical Zone Observatory (CZO)',\n",
       "  u'IGSN': u'IERRR00B8',\n",
       "  u'LabID': 80023,\n",
       "  u'Latitude': 37.108800000000002,\n",
       "  u'Locality': u'San Joaquin Experimental Reserve',\n",
       "  u'Longitude': -119.73139999999999,\n",
       "  u'Mass': 514.21000000000004,\n",
       "  u'Material': u'Soil',\n",
       "  u'Other name(s)': nan,\n",
       "  u'Parent IGSN': u'IERRR00AS',\n",
       "  u'Sample Name': u'SJER',\n",
       "  u'Site': u'SJER',\n",
       "  u'State/Province': u'California'})"
      ]
     },
     "execution_count": 15,
     "metadata": {},
     "output_type": "execute_result"
    }
   ],
   "source": [
    "len(csmergeddf), csmergeddf.iloc[0].to_dict()"
   ]
  },
  {
   "cell_type": "markdown",
   "metadata": {},
   "source": [
    "Now merge in `sfdf` but first assess the need to drop columns from `csmergeddf` with names identical to those from `sfdf`, where we'll use the information from `sddf`. This merge is needed/helpful so we can pass a single DF `row` to the create functions."
   ]
  },
  {
   "cell_type": "code",
   "execution_count": 16,
   "metadata": {
    "collapsed": false
   },
   "outputs": [],
   "source": [
    "csmerged2df = czld.pd.merge(csmergeddf, sfdf, how='inner', \n",
    "                           left_on='Site', right_on='code')"
   ]
  },
  {
   "cell_type": "code",
   "execution_count": 17,
   "metadata": {
    "collapsed": false
   },
   "outputs": [
    {
     "data": {
      "text/plain": [
       "(174,\n",
       " {u'Collection date': u'2016-04-10',\n",
       "  u'Collection date precision': u'day',\n",
       "  u'Collector/Chief Scientist': u'Keshav Arogyaswamy',\n",
       "  u'Collector/Chief Scientist Address': u'arogyaswamy@gmail.com',\n",
       "  u'Country': u'United States',\n",
       "  u'Date': Timestamp('2016-04-10 00:00:00'),\n",
       "  'Depth': '0-10',\n",
       "  u'Depth in Core (max)': 10,\n",
       "  u'Depth in Core (min)': 0,\n",
       "  u'Depth scale': u'cm',\n",
       "  u'Field program/Cruise': u'Sierra Critical Zone Observatory (CZO)',\n",
       "  u'IGSN': u'IERRR00B8',\n",
       "  u'LabID': 80023,\n",
       "  u'Latitude': 37.108800000000002,\n",
       "  u'Locality': u'San Joaquin Experimental Reserve',\n",
       "  u'Longitude': -119.73139999999999,\n",
       "  u'Mass': 514.21000000000004,\n",
       "  u'Material': u'Soil',\n",
       "  u'Other name(s)': nan,\n",
       "  u'Parent IGSN': u'IERRR00AS',\n",
       "  u'Sample Name': u'SJER',\n",
       "  u'Site': u'SJER',\n",
       "  u'State/Province': u'California',\n",
       "  'actionbyaffiliationid': 7,\n",
       "  'code': 'SJER',\n",
       "  'collectiondate': '2016-04-10',\n",
       "  'coreigsn': 'IERRR00AS',\n",
       "  'coringmethodid': 15,\n",
       "  'czo': 'South Sierra',\n",
       "  'lat': 37.108800000000002,\n",
       "  'lon': -119.73139999999999,\n",
       "  'name': 'San Joaquin Experimental Reserve',\n",
       "  'siteigsn': 'IERRR00AC',\n",
       "  'size': 100})"
      ]
     },
     "execution_count": 17,
     "metadata": {},
     "output_type": "execute_result"
    }
   ],
   "source": [
    "len(csmerged2df), csmerged2df.iloc[0].to_dict()"
   ]
  },
  {
   "cell_type": "markdown",
   "metadata": {
    "deletable": true,
    "editable": true
   },
   "source": [
    "## Open odm2api ODM2 database session"
   ]
  },
  {
   "cell_type": "code",
   "execution_count": 18,
   "metadata": {
    "collapsed": true,
    "deletable": true,
    "editable": true
   },
   "outputs": [],
   "source": [
    "db_cred = {\n",
    "    'address': 'ip-or-domainname',\n",
    "    'db': 'dbname',\n",
    "    'user': 'dbuser',\n",
    "    'password': 'pwd'\n",
    "}"
   ]
  },
  {
   "cell_type": "code",
   "execution_count": 19,
   "metadata": {
    "collapsed": true,
    "deletable": true,
    "editable": true
   },
   "outputs": [],
   "source": [
    "DBSession = czld.get_dbsession(db_cred)"
   ]
  },
  {
   "cell_type": "markdown",
   "metadata": {
    "deletable": true,
    "editable": true
   },
   "source": [
    "## Clean Up Database before running below"
   ]
  },
  {
   "cell_type": "code",
   "execution_count": 20,
   "metadata": {
    "collapsed": false,
    "deletable": true,
    "editable": true
   },
   "outputs": [],
   "source": [
    "# czld.cleanup(DBSession)"
   ]
  },
  {
   "cell_type": "markdown",
   "metadata": {
    "deletable": true,
    "editable": true
   },
   "source": [
    "## Get IGSN ExternalIdentifierSystemID\n",
    "Query the database to get this identifier value, for reuse in both the `site` and `profile` blocks."
   ]
  },
  {
   "cell_type": "code",
   "execution_count": 21,
   "metadata": {
    "collapsed": true,
    "deletable": true,
    "editable": true
   },
   "outputs": [],
   "source": [
    "IGSN_ExternalIdentifierSystemID = DBSession.query(odm2mod.ExternalIdentifierSystems).filter(\n",
    "    odm2mod.ExternalIdentifierSystems.ExternalIdentifierSystemName == 'IGSN'\n",
    "    ).one().ExternalIdentifierSystemID"
   ]
  },
  {
   "cell_type": "markdown",
   "metadata": {
    "deletable": true,
    "editable": true
   },
   "source": [
    "## 1. Create Sites and associated entities (Actions, etc)\n",
    "SamplingFeatures & Sites --> Actions --> ActionBy --> FeatureActions --> SamplingFeatureExternalIdentifiers"
   ]
  },
  {
   "cell_type": "code",
   "execution_count": null,
   "metadata": {
    "collapsed": true,
    "deletable": true,
    "editable": true
   },
   "outputs": [],
   "source": [
    "SF_set = 'site'"
   ]
  },
  {
   "cell_type": "code",
   "execution_count": null,
   "metadata": {
    "collapsed": false,
    "deletable": true,
    "editable": true
   },
   "outputs": [],
   "source": [
    "for i, r in sfdf.iterrows():\n",
    "    row = r.to_dict()\n",
    "    \n",
    "    DBSession.add(czld.create_samplingfeature(row, SF_set))\n",
    "    DBSession.add(czld.create_action(row, SF_set))\n",
    "    DBSession.commit()\n",
    "    # Get ActionID and SamplingFeatureID from the inserted action and sampling feature\n",
    "    # This will be inefficient if there are many actions present\n",
    "    ActionID = DBSession.query(odm2mod.Actions).all()[-1].ActionID\n",
    "    SF_ID = DBSession.query(odm2mod.SamplingFeatures).filter(\n",
    "        odm2mod.SamplingFeatures.SamplingFeatureCode == row['code']\n",
    "        ).one().SamplingFeatureID\n",
    "    \n",
    "    DBSession.add(czld.create_actionby(row, ActionID))\n",
    "    DBSession.add(czld.create_featureaction(row, ActionID, SF_ID))\n",
    "    DBSession.add(czld.create_igsn(row, SF_ID, IGSN_ExternalIdentifierSystemID, SF_set))\n",
    "    DBSession.commit()\n",
    "\n",
    "czld.update_featuregeometry(DBSession)"
   ]
  },
  {
   "cell_type": "markdown",
   "metadata": {
    "deletable": true,
    "editable": true
   },
   "source": [
    "## 2. Create \"Profile\" SF's and associated entities (Actions, etc)\n",
    "SamplingFeatures --> Actions --> ActionBy --> FeatureActions --> SamplingFeatureExternalIdentifiers --> RelatedFeatures --> SamplingFeatureExtensionPropertyValues"
   ]
  },
  {
   "cell_type": "code",
   "execution_count": null,
   "metadata": {
    "collapsed": true,
    "deletable": true,
    "editable": true
   },
   "outputs": [],
   "source": [
    "SF_set = 'profile'"
   ]
  },
  {
   "cell_type": "code",
   "execution_count": null,
   "metadata": {
    "collapsed": false,
    "deletable": true,
    "editable": true
   },
   "outputs": [],
   "source": [
    "for i, r in sfdf.iterrows():\n",
    "    row = r.to_dict()\n",
    "    \n",
    "    DBSession.add(czld.create_samplingfeature(row, SF_set))\n",
    "    DBSession.add(czld.create_action(row, SF_set))\n",
    "    DBSession.commit()\n",
    "    # Get ActionID and SamplingFeatureID from the inserted action and sampling feature\n",
    "    # This will be inefficient if there are many actions present\n",
    "    ActionID = DBSession.query(odm2mod.Actions).all()[-1].ActionID\n",
    "    SF_ID = DBSession.query(odm2mod.SamplingFeatures).filter(\n",
    "        odm2mod.SamplingFeatures.SamplingFeatureCode == row['code'] + '-profile'\n",
    "        ).one().SamplingFeatureID\n",
    "    \n",
    "    DBSession.add(czld.create_actionby(row, ActionID))\n",
    "    DBSession.add(czld.create_featureaction(row, ActionID, SF_ID))\n",
    "    DBSession.add(czld.create_igsn(row, SF_ID, IGSN_ExternalIdentifierSystemID, SF_set))\n",
    "    \n",
    "    DBSession.add(czld.create_relatedfeatures(row, SF_ID, SF_set, DBSession))\n",
    "    DBSession.add(czld.create_sfextpropvalues(1, 0, SF_ID)) # soil_top_depth\n",
    "    DBSession.add(czld.create_sfextpropvalues(2, row['size'], SF_ID)) # soil_bottom_depth\n",
    "    DBSession.commit()\n",
    "\n",
    "czld.update_featuregeometry(DBSession).update_featuregeometry(DBSession)"
   ]
  },
  {
   "cell_type": "markdown",
   "metadata": {},
   "source": [
    "## 3. Create \"Core section\" SF's and associated entities (Actions, etc)\n",
    "SamplingFeatures --> Actions --> ActionBy --> FeatureActions --> SamplingFeatureExternalIdentifiers --> RelatedFeatures --> SamplingFeatureExtensionPropertyValues\n",
    "\n",
    "Remember to add somewhere:\n",
    "- protocol mass target was 1000g\n",
    "- identify a provenance or annotation to put LabID"
   ]
  },
  {
   "cell_type": "code",
   "execution_count": 22,
   "metadata": {
    "collapsed": true,
    "deletable": true,
    "editable": true
   },
   "outputs": [],
   "source": [
    "SF_set = 'coresection'"
   ]
  },
  {
   "cell_type": "code",
   "execution_count": 23,
   "metadata": {
    "collapsed": false
   },
   "outputs": [
    {
     "ename": "NameError",
     "evalue": "name 'dataload' is not defined",
     "output_type": "error",
     "traceback": [
      "\u001b[0;31m---------------------------------------------------------------------------\u001b[0m",
      "\u001b[0;31mNameError\u001b[0m                                 Traceback (most recent call last)",
      "\u001b[0;32m<ipython-input-23-1574cc717a14>\u001b[0m in \u001b[0;36m<module>\u001b[0;34m()\u001b[0m\n\u001b[1;32m     21\u001b[0m     \u001b[0mDBSession\u001b[0m\u001b[0;34m.\u001b[0m\u001b[0mcommit\u001b[0m\u001b[0;34m(\u001b[0m\u001b[0;34m)\u001b[0m\u001b[0;34m\u001b[0m\u001b[0m\n\u001b[1;32m     22\u001b[0m \u001b[0;34m\u001b[0m\u001b[0m\n\u001b[0;32m---> 23\u001b[0;31m \u001b[0mdataload\u001b[0m\u001b[0;34m.\u001b[0m\u001b[0mupdate_featuregeometry\u001b[0m\u001b[0;34m(\u001b[0m\u001b[0mDBSession\u001b[0m\u001b[0;34m)\u001b[0m\u001b[0;34m\u001b[0m\u001b[0m\n\u001b[0m",
      "\u001b[0;31mNameError\u001b[0m: name 'dataload' is not defined"
     ]
    }
   ],
   "source": [
    "for i, r in csmerged2df.iterrows():\n",
    "    row = r.to_dict()\n",
    "    \n",
    "    DBSession.add(czld.create_samplingfeature(row, SF_set))\n",
    "    DBSession.add(czld.create_action(row, SF_set))\n",
    "    DBSession.commit()\n",
    "    # Get ActionID and SamplingFeatureID from the inserted action and sampling feature\n",
    "    # This will be inefficient if there are many actions present\n",
    "    ActionID = DBSession.query(odm2mod.Actions).all()[-1].ActionID\n",
    "    SF_ID = DBSession.query(odm2mod.SamplingFeatures).filter(\n",
    "        odm2mod.SamplingFeatures.SamplingFeatureCode == row['code'] + '-profile-' + row['Depth'] + 'cm'\n",
    "        ).one().SamplingFeatureID\n",
    "    \n",
    "    DBSession.add(czld.create_actionby(row, ActionID))\n",
    "    DBSession.add(czld.create_featureaction(row, ActionID, SF_ID))\n",
    "    DBSession.add(czld.create_igsn(row, SF_ID, IGSN_ExternalIdentifierSystemID, SF_set))\n",
    "    \n",
    "    DBSession.add(czld.create_relatedfeatures(row, SF_ID, SF_set, DBSession))\n",
    "    DBSession.add(czld.create_sfextpropvalues(1, row['Depth in Core (min)'], SF_ID)) # soil_top_depth\n",
    "    DBSession.add(czld.create_sfextpropvalues(2, row['Depth in Core (max)'], SF_ID)) # soil_bottom_depth\n",
    "    DBSession.commit()\n",
    "\n",
    "czld.update_featuregeometry(DBSession)"
   ]
  }
 ],
 "metadata": {
  "kernelspec": {
   "display_name": "Python 2",
   "language": "python",
   "name": "python2"
  },
  "language_info": {
   "codemirror_mode": {
    "name": "ipython",
    "version": 2
   },
   "file_extension": ".py",
   "mimetype": "text/x-python",
   "name": "python",
   "nbconvert_exporter": "python",
   "pygments_lexer": "ipython2",
   "version": "2.7.12"
  }
 },
 "nbformat": 4,
 "nbformat_minor": 2
}
