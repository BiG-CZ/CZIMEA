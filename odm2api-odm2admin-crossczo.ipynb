{
 "cells": [
  {
   "cell_type": "markdown",
   "metadata": {},
   "source": [
    "# odm2api-odm2admin-crossczo\n",
    "Accessing CZIMEA Cross-CZO postgresql database locally using `odm2api` version `0.5.1.a0` (installed from conda ODM2 channel). Note that database user name and password were hidden/removed after running the notebook, in the `dbconnection.createConnection()` statement.   \n",
    "**Emilio Mayorga.**\n",
    "- 12/2/2016. Reran with Emilio's conda environment `odm2api_odm2channel2`\n",
    "- 8/24/2016. Initial development and testing."
   ]
  },
  {
   "cell_type": "code",
   "execution_count": 1,
   "metadata": {
    "collapsed": false
   },
   "outputs": [
    {
     "name": "stderr",
     "output_type": "stream",
     "text": [
      "/home/mayorga/miniconda/envs/odm2api_odm2channel2/lib/python2.7/site-packages/matplotlib/font_manager.py:273: UserWarning: Matplotlib is building the font cache using fc-list. This may take a moment.\n",
      "  warnings.warn('Matplotlib is building the font cache using fc-list. This may take a moment.')\n"
     ]
    }
   ],
   "source": [
    "import sys\n",
    "import os\n",
    "import pprint\n",
    "\n",
    "import matplotlib.pyplot as plt\n",
    "from matplotlib import dates\n",
    "\n",
    "pp = pprint.PrettyPrinter(indent=8)\n",
    "%matplotlib inline"
   ]
  },
  {
   "cell_type": "code",
   "execution_count": 2,
   "metadata": {
    "collapsed": true
   },
   "outputs": [],
   "source": [
    "from odm2api.ODMconnection import dbconnection\n",
    "import odm2api.ODM2.services.readService as odm2rs"
   ]
  },
  {
   "cell_type": "markdown",
   "metadata": {},
   "source": [
    "## ODM2 Connection"
   ]
  },
  {
   "cell_type": "code",
   "execution_count": 3,
   "metadata": {
    "collapsed": true
   },
   "outputs": [],
   "source": [
    "session_factory = dbconnection.createConnection('postgresql', 'localhost', 'odm2admin_czimea2', \n",
    "                                                'USERNAME', 'PASSWORD')"
   ]
  },
  {
   "cell_type": "code",
   "execution_count": 4,
   "metadata": {
    "collapsed": false
   },
   "outputs": [],
   "source": [
    "read = odm2rs.ReadODM2(session_factory)"
   ]
  },
  {
   "cell_type": "markdown",
   "metadata": {},
   "source": [
    "## People, Actions, Methods, Variables"
   ]
  },
  {
   "cell_type": "code",
   "execution_count": 5,
   "metadata": {
    "collapsed": false
   },
   "outputs": [
    {
     "name": "stdout",
     "output_type": "stream",
     "text": [
      "\n",
      "------------ Simple People Query ------------------\n",
      "There are 5 People in the ODM2 database retrieved using getPeople().\n",
      "[       <Person('1', 'Emilio', 'Mayorga')>,\n",
      "        <Person('2', 'Landung', 'Setiawan')>,\n",
      "        <Person('3', 'Emma', 'Aronson')>,\n",
      "        <Person('4', 'Chelsea', 'Carey')>,\n",
      "        <Person('5', 'Keshav', 'Arogyaswamy')>]\n"
     ]
    }
   ],
   "source": [
    "# Get all of the people from the database\n",
    "allPeople = read.getPeople()\n",
    "numPeople = len(allPeople)\n",
    "print \"\\n------------ Simple People Query ------------------\"\n",
    "print \"There are \" + str(numPeople) + \" People in the ODM2 database retrieved using getPeople().\"\n",
    "pp.pprint(allPeople)"
   ]
  },
  {
   "cell_type": "code",
   "execution_count": 6,
   "metadata": {
    "collapsed": false
   },
   "outputs": [
    {
     "data": {
      "text/plain": [
       "[<Actions('2', 'Specimen collection', '2016-04-10 06:00:00', 'Used soil hand auger to sample soil horizons (intervals) along a depth profile')>,\n",
       " <Actions('1', 'Specimen analysis', '2016-04-21 10:00:00', '')>]"
      ]
     },
     "execution_count": 6,
     "metadata": {},
     "output_type": "execute_result"
    }
   ],
   "source": [
    "read.getActions()"
   ]
  },
  {
   "cell_type": "code",
   "execution_count": 7,
   "metadata": {
    "collapsed": false
   },
   "outputs": [
    {
     "data": {
      "text/plain": [
       "[<Methods('2', 'Specimen collection', 'soil_auger_1', 'Soil Hand Auger 1', 'Soil Hand Auger 1', '', '5')>,\n",
       " <Methods('1', 'Specimen analysis', 'soiltext_HS2015', 'Soil Texture Analysis - Hall and Silver 2015', 'Soil Texture Analysis - Hall and Silver 2015', 'https://drive.google.com/file/d/0B7vBlSZGFJKHaHdsb3Y1WGlRQ2s/view?usp=sharing', '5')>]"
      ]
     },
     "execution_count": 7,
     "metadata": {},
     "output_type": "execute_result"
    }
   ],
   "source": [
    "read.getMethods()"
   ]
  },
  {
   "cell_type": "code",
   "execution_count": 8,
   "metadata": {
    "collapsed": false
   },
   "outputs": [
    {
     "name": "stdout",
     "output_type": "stream",
     "text": [
      "\n",
      "------------ Simple Variables Query ---------------\n",
      "There are 2 Variables in the ODM2 database retrieved using getVariables().\n",
      "[       <Variables('1', 'uff', 'Bicarbonate')>,\n",
      "        <Variables('2', 'soil_vwc', 'Volumetric water content')>]\n"
     ]
    }
   ],
   "source": [
    "# Get all of the variables from the database and print their names to the console\n",
    "allVars = read.getVariables()\n",
    "numVars = len(allVars)\n",
    "print \"\\n------------ Simple Variables Query ---------------\"\n",
    "print \"There are \" + str(numVars) + \" Variables in the ODM2 database retrieved using getVariables().\"\n",
    "pp.pprint(allVars)"
   ]
  },
  {
   "cell_type": "code",
   "execution_count": 9,
   "metadata": {
    "collapsed": false
   },
   "outputs": [
    {
     "data": {
      "text/plain": [
       "{'NoDataValue': Decimal('-9.0000000000'),\n",
       " 'SpeciationCV': None,\n",
       " 'VariableCode': u'soil_vwc',\n",
       " 'VariableDefinition': u'Soil volumetric water content',\n",
       " 'VariableID': 2,\n",
       " 'VariableNameCV': u'Volumetric water content',\n",
       " 'VariableTypeCV': u'Soil',\n",
       " '_sa_instance_state': <sqlalchemy.orm.state.InstanceState at 0x7f8d30214f90>}"
      ]
     },
     "execution_count": 9,
     "metadata": {},
     "output_type": "execute_result"
    }
   ],
   "source": [
    "vars(read.getVariables()[1])"
   ]
  },
  {
   "cell_type": "markdown",
   "metadata": {},
   "source": [
    "## Sampling Features"
   ]
  },
  {
   "cell_type": "markdown",
   "metadata": {},
   "source": [
    "Point out to Jeff and Stephanie the need for better error reporting; specifically for case where a site-type SF is defined, but no corresponding site record exists. That specific situation should be easily caught and handled gracefully by `odm2api`"
   ]
  },
  {
   "cell_type": "code",
   "execution_count": 10,
   "metadata": {
    "collapsed": false
   },
   "outputs": [
    {
     "data": {
      "text/plain": [
       "[<Sites('2', '1', 'Soil hole', '37.0675', '-119.195', '<SpatialReferences('1', 'epsg:4326', 'WGS 84 (EPSG:4326)', 'Lat-lon Geographic 2D, WGS84, EPSG:4386', 'http://www.opengis.net/def/crs/EPSG/0/4326')>', 'PROV')>,\n",
       " <Sites('1', '1', 'Soil hole', '37.1088', '-119.7314', '<SpatialReferences('1', 'epsg:4326', 'WGS 84 (EPSG:4326)', 'Lat-lon Geographic 2D, WGS84, EPSG:4386', 'http://www.opengis.net/def/crs/EPSG/0/4326')>', 'SJER')>,\n",
       " <Sites('3', '1', 'Soil hole', '40.021', '-105.4796', '<SpatialReferences('1', 'epsg:4326', 'WGS 84 (EPSG:4326)', 'Lat-lon Geographic 2D, WGS84, EPSG:4386', 'http://www.opengis.net/def/crs/EPSG/0/4326')>', 'MEAD')>,\n",
       " <Sites('4', '1', 'Soil hole', '40.0125', '-105.469', '<SpatialReferences('1', 'epsg:4326', 'WGS 84 (EPSG:4326)', 'Lat-lon Geographic 2D, WGS84, EPSG:4386', 'http://www.opengis.net/def/crs/EPSG/0/4326')>', 'NSLP')>,\n",
       " <Sites('5', '1', 'Soil hole', '43.1927', '-116.8105', '<SpatialReferences('1', 'epsg:4326', 'WGS 84 (EPSG:4326)', 'Lat-lon Geographic 2D, WGS84, EPSG:4386', 'http://www.opengis.net/def/crs/EPSG/0/4326')>', 'GRNT')>,\n",
       " <Sites('6', '1', 'Soil hole', '43.1171', '-116.7258', '<SpatialReferences('1', 'epsg:4326', 'WGS 84 (EPSG:4326)', 'Lat-lon Geographic 2D, WGS84, EPSG:4386', 'http://www.opengis.net/def/crs/EPSG/0/4326')>', 'BSLT')>,\n",
       " <Sites('7', '1', 'Soil hole', '40.664967', '-77.90515', '<SpatialReferences('1', 'epsg:4326', 'WGS 84 (EPSG:4326)', 'Lat-lon Geographic 2D, WGS84, EPSG:4386', 'http://www.opengis.net/def/crs/EPSG/0/4326')>', 'SHAL')>,\n",
       " <Sites('8', '1', 'Soil hole', '40.69617', '-77.92138', '<SpatialReferences('1', 'epsg:4326', 'WGS 84 (EPSG:4326)', 'Lat-lon Geographic 2D, WGS84, EPSG:4386', 'http://www.opengis.net/def/crs/EPSG/0/4326')>', 'GARN')>,\n",
       " <Sites('9', '1', 'Soil hole', '34.6064', '-81.7234', '<SpatialReferences('1', 'epsg:4326', 'WGS 84 (EPSG:4326)', 'Lat-lon Geographic 2D, WGS84, EPSG:4386', 'http://www.opengis.net/def/crs/EPSG/0/4326')>', 'HARD')>,\n",
       " <Sites('10', '1', 'Soil hole', '39.8625', '75.783', '<SpatialReferences('1', 'epsg:4326', 'WGS 84 (EPSG:4326)', 'Lat-lon Geographic 2D, WGS84, EPSG:4386', 'http://www.opengis.net/def/crs/EPSG/0/4326')>', 'FLUD')>,\n",
       " <Sites('11', '1', 'Soil hole', '39.8622', '75.7834', '<SpatialReferences('1', 'epsg:4326', 'WGS 84 (EPSG:4326)', 'Lat-lon Geographic 2D, WGS84, EPSG:4386', 'http://www.opengis.net/def/crs/EPSG/0/4326')>', 'AGRI')>]"
      ]
     },
     "execution_count": 10,
     "metadata": {},
     "output_type": "execute_result"
    }
   ],
   "source": [
    "# Returns error when SF is a Site type but no corresponding Site records have been defined\n",
    "# I created Site records from SF's, and that resolved the errors\n",
    "read.getSamplingFeatures()"
   ]
  },
  {
   "cell_type": "code",
   "execution_count": 11,
   "metadata": {
    "collapsed": true
   },
   "outputs": [],
   "source": [
    "firstSF = read.getSamplingFeatures()[0]"
   ]
  },
  {
   "cell_type": "code",
   "execution_count": 12,
   "metadata": {
    "collapsed": false
   },
   "outputs": [
    {
     "data": {
      "text/plain": [
       "{'ElevationDatumCV': None,\n",
       " 'Elevation_m': None,\n",
       " 'FeatureGeometry': '010100000014AE47E17ACC5DC0713D0AD7A3884240',\n",
       " 'FeatureGeometryWKT': None,\n",
       " 'Latitude': 37.0675,\n",
       " 'Longitude': -119.195,\n",
       " 'SamplingFeatureCode': u'PROV',\n",
       " 'SamplingFeatureDescription': u'South Sierra CZO',\n",
       " 'SamplingFeatureGeotypeCV': u'Point',\n",
       " 'SamplingFeatureID': 2,\n",
       " 'SamplingFeatureName': u'Providence',\n",
       " 'SamplingFeatureTypeCV': u'Site',\n",
       " 'SamplingFeatureUUID': UUID('bb132091-d854-429b-a243-e940c8d57de9'),\n",
       " 'SiteTypeCV': u'Soil hole',\n",
       " 'SpatialReferenceID': 1,\n",
       " 'SpatialReferenceObj': <SpatialReferences('1', 'epsg:4326', 'WGS 84 (EPSG:4326)', 'Lat-lon Geographic 2D, WGS84, EPSG:4386', 'http://www.opengis.net/def/crs/EPSG/0/4326')>,\n",
       " '_sa_instance_state': <sqlalchemy.orm.state.InstanceState at 0x7f8d2f282c10>}"
      ]
     },
     "execution_count": 12,
     "metadata": {},
     "output_type": "execute_result"
    }
   ],
   "source": [
    "vars(firstSF)"
   ]
  },
  {
   "cell_type": "markdown",
   "metadata": {},
   "source": [
    "## Results"
   ]
  },
  {
   "cell_type": "code",
   "execution_count": 13,
   "metadata": {
    "collapsed": false
   },
   "outputs": [
    {
     "data": {
      "text/plain": [
       "[<Results('1', '6643202a-0bc4-4b19-8c95-444e2eb4c636', 'Profile coverage', '1', '10')>]"
      ]
     },
     "execution_count": 13,
     "metadata": {},
     "output_type": "execute_result"
    }
   ],
   "source": [
    "read.getResults()"
   ]
  },
  {
   "cell_type": "code",
   "execution_count": 14,
   "metadata": {
    "collapsed": false
   },
   "outputs": [
    {
     "data": {
      "text/plain": [
       "<Actions('1', 'Specimen analysis', '2016-04-21 10:00:00', '')>"
      ]
     },
     "execution_count": 14,
     "metadata": {},
     "output_type": "execute_result"
    }
   ],
   "source": [
    "firstResult = read.getResults()[0]\n",
    "firstResult.FeatureActionObj.ActionObj"
   ]
  },
  {
   "cell_type": "code",
   "execution_count": 15,
   "metadata": {
    "collapsed": false
   },
   "outputs": [
    {
     "data": {
      "text/plain": [
       "(odm2api.ODM2.models.Results,\n",
       " {'FeatureActionID': 3,\n",
       "  'FeatureActionObj': <FeatureActions('3', '1', '1', )>,\n",
       "  'ProcessingLevelID': 1,\n",
       "  'ResultDateTime': datetime.datetime(2016, 4, 21, 10, 0),\n",
       "  'ResultDateTimeUTCOffset': -7L,\n",
       "  'ResultID': 1L,\n",
       "  'ResultTypeCV': u'Profile coverage',\n",
       "  'ResultUUID': UUID('6643202a-0bc4-4b19-8c95-444e2eb4c636'),\n",
       "  'SampledMediumCV': u'Soil',\n",
       "  'StatusCV': u'Complete',\n",
       "  'TaxonomicClassifierID': None,\n",
       "  'UnitsID': 1,\n",
       "  'ValidDateTime': datetime.datetime(2016, 4, 21, 11, 0),\n",
       "  'ValidDateTimeUTCOffset': -7L,\n",
       "  'ValueCount': 10,\n",
       "  'VariableID': 2,\n",
       "  '_sa_instance_state': <sqlalchemy.orm.state.InstanceState at 0x7f8d2f2b0450>})"
      ]
     },
     "execution_count": 15,
     "metadata": {},
     "output_type": "execute_result"
    }
   ],
   "source": [
    "profResult = read.getResults(ids=[1])[0]\n",
    "type(profResult), vars(profResult)"
   ]
  },
  {
   "cell_type": "code",
   "execution_count": 16,
   "metadata": {
    "collapsed": false
   },
   "outputs": [
    {
     "name": "stdout",
     "output_type": "stream",
     "text": [
      "Error running Query: 'ProfileResultValues' object has no attribute 'list_repr'\n"
     ]
    },
    {
     "data": {
      "text/plain": [
       "NoneType"
      ]
     },
     "execution_count": 16,
     "metadata": {},
     "output_type": "execute_result"
    }
   ],
   "source": [
    "profValues = read.getResultValues(resultid=1)\n",
    "type(profValues)"
   ]
  },
  {
   "cell_type": "code",
   "execution_count": null,
   "metadata": {
    "collapsed": true
   },
   "outputs": [],
   "source": []
  }
 ],
 "metadata": {
  "kernelspec": {
   "display_name": "Python 2",
   "language": "python",
   "name": "python2"
  },
  "language_info": {
   "codemirror_mode": {
    "name": "ipython",
    "version": 2
   },
   "file_extension": ".py",
   "mimetype": "text/x-python",
   "name": "python",
   "nbconvert_exporter": "python",
   "pygments_lexer": "ipython2",
   "version": "2.7.12"
  }
 },
 "nbformat": 4,
 "nbformat_minor": 0
}
